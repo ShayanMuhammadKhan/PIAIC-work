{
 "cells": [
  {
   "cell_type": "markdown",
   "metadata": {},
   "source": [
    "# Q1:"
   ]
  },
  {
   "cell_type": "markdown",
   "metadata": {},
   "source": [
    "Think of at least three kinds of your favorite pizza. Store these pizza names in a list, and then use a for loop to print the name of each pizza."
   ]
  },
  {
   "cell_type": "code",
   "execution_count": 8,
   "metadata": {},
   "outputs": [
    {
     "name": "stdout",
     "output_type": "stream",
     "text": [
      "ARbian\n",
      "Afghani Feast\n",
      "Creamy Lover\n"
     ]
    }
   ],
   "source": [
    "flav = [\"ARbian\",\"Afghani Feast\",\"Creamy Lover\"]\n",
    "for i in flav:\n",
    "    print(i)\n",
    "\n"
   ]
  },
  {
   "cell_type": "markdown",
   "metadata": {},
   "source": [
    "# Q2"
   ]
  },
  {
   "cell_type": "markdown",
   "metadata": {},
   "source": [
    "Start with your last question , Modify your for loop to print a sentence using the name of the pizza\n",
    "instead of printing just the name of the pizza. For each pizza you should\n",
    "have one line of output containing a simple statement like I like pepperoni\n",
    "pizza."
   ]
  },
  {
   "cell_type": "code",
   "execution_count": 10,
   "metadata": {},
   "outputs": [
    {
     "name": "stdout",
     "output_type": "stream",
     "text": [
      "i like ARbian pizza\n",
      "i like Afghani Feast pizza\n",
      "i like Creamy Lover pizza\n"
     ]
    }
   ],
   "source": [
    "flav = [\"ARbian\",\"Afghani Feast\",\"Creamy Lover\"]\n",
    "for i in flav:\n",
    "    print(f\"i like {i} pizza\")\n",
    "\n",
    " \n"
   ]
  },
  {
   "cell_type": "code",
   "execution_count": null,
   "metadata": {},
   "outputs": [],
   "source": []
  },
  {
   "cell_type": "markdown",
   "metadata": {},
   "source": [
    "# Q3:"
   ]
  },
  {
   "cell_type": "markdown",
   "metadata": {},
   "source": [
    "Use a for loop to print the numbers from 1 to 20,\n",
    "inclusive."
   ]
  },
  {
   "cell_type": "code",
   "execution_count": 11,
   "metadata": {},
   "outputs": [
    {
     "name": "stdout",
     "output_type": "stream",
     "text": [
      "1\n",
      "2\n",
      "3\n",
      "4\n",
      "5\n",
      "6\n",
      "7\n",
      "8\n",
      "9\n",
      "10\n",
      "11\n",
      "12\n",
      "13\n",
      "14\n",
      "15\n",
      "16\n",
      "17\n",
      "18\n",
      "19\n",
      "20\n"
     ]
    }
   ],
   "source": [
    "for i in range(1,21):\n",
    "    print(i)"
   ]
  },
  {
   "cell_type": "code",
   "execution_count": null,
   "metadata": {},
   "outputs": [],
   "source": []
  },
  {
   "cell_type": "code",
   "execution_count": null,
   "metadata": {},
   "outputs": [],
   "source": []
  },
  {
   "cell_type": "markdown",
   "metadata": {},
   "source": [
    "# Q4:"
   ]
  },
  {
   "cell_type": "markdown",
   "metadata": {},
   "source": [
    "Use the third argument of the range() function to make a list\n",
    "of the odd numbers from 1 to 20. Use a for loop to print each number."
   ]
  },
  {
   "cell_type": "code",
   "execution_count": 13,
   "metadata": {},
   "outputs": [
    {
     "name": "stdout",
     "output_type": "stream",
     "text": [
      "1\n",
      "3\n",
      "5\n",
      "7\n",
      "9\n",
      "11\n",
      "13\n",
      "15\n",
      "17\n",
      "19\n"
     ]
    }
   ],
   "source": [
    "for i in  range(1,20,2):\n",
    "    print(i)"
   ]
  },
  {
   "cell_type": "code",
   "execution_count": null,
   "metadata": {},
   "outputs": [],
   "source": []
  },
  {
   "cell_type": "code",
   "execution_count": null,
   "metadata": {},
   "outputs": [],
   "source": []
  },
  {
   "cell_type": "markdown",
   "metadata": {},
   "source": [
    "# Q5:"
   ]
  },
  {
   "cell_type": "markdown",
   "metadata": {},
   "source": [
    "Make a list of the multiples of 3 from 3 to 30. Use a for loop to\n",
    "print the numbers in your list."
   ]
  },
  {
   "cell_type": "code",
   "execution_count": 14,
   "metadata": {},
   "outputs": [
    {
     "name": "stdout",
     "output_type": "stream",
     "text": [
      "3\n",
      "6\n",
      "9\n",
      "12\n",
      "15\n",
      "18\n",
      "21\n",
      "24\n",
      "27\n",
      "30\n"
     ]
    }
   ],
   "source": [
    "for i in range(3,31,3):\n",
    "    print(i)"
   ]
  },
  {
   "cell_type": "code",
   "execution_count": null,
   "metadata": {},
   "outputs": [],
   "source": []
  },
  {
   "cell_type": "code",
   "execution_count": null,
   "metadata": {},
   "outputs": [],
   "source": []
  },
  {
   "cell_type": "code",
   "execution_count": null,
   "metadata": {},
   "outputs": [],
   "source": []
  },
  {
   "cell_type": "markdown",
   "metadata": {},
   "source": [
    "# Q6:"
   ]
  },
  {
   "cell_type": "markdown",
   "metadata": {},
   "source": [
    "A number raised to the third power is called a cube. For example,\n",
    "the cube of 2 is written as 2**3 in Python. Make a list of the first 10 cubes (that\n",
    "is, the cube of each integer from 1 through 10), and use a for loop to print out\n",
    "the value of each cube"
   ]
  },
  {
   "cell_type": "code",
   "execution_count": 15,
   "metadata": {},
   "outputs": [
    {
     "name": "stdout",
     "output_type": "stream",
     "text": [
      "1\n",
      "8\n",
      "27\n",
      "64\n",
      "125\n",
      "216\n",
      "343\n",
      "512\n",
      "729\n",
      "1000\n"
     ]
    }
   ],
   "source": [
    "for i in range(1,11):\n",
    "    ans=i**3\n",
    "    print(ans)"
   ]
  },
  {
   "cell_type": "code",
   "execution_count": null,
   "metadata": {},
   "outputs": [],
   "source": []
  },
  {
   "cell_type": "code",
   "execution_count": null,
   "metadata": {},
   "outputs": [],
   "source": []
  },
  {
   "cell_type": "code",
   "execution_count": null,
   "metadata": {},
   "outputs": [],
   "source": []
  },
  {
   "cell_type": "markdown",
   "metadata": {},
   "source": [
    "# Q7:"
   ]
  },
  {
   "cell_type": "markdown",
   "metadata": {},
   "source": [
    "###### Make a python program that conatains your nine favourite dishes in a list called foods.\n",
    "\n",
    "###### Print the message, The first three items in the list are:. \n",
    "###### Then use a slice to print the first three items from that program’s list.\n",
    "\n",
    "###### Print the message, Three items from the middle of the list are:\n",
    "###### Use a slice to print three items from the middle of the list.\n",
    "\n",
    "###### Print the message, The last three items in the list are:\n",
    "###### Use a slice to print the last three items in the list."
   ]
  },
  {
   "cell_type": "code",
   "execution_count": 50,
   "metadata": {},
   "outputs": [
    {
     "name": "stdout",
     "output_type": "stream",
     "text": [
      "First three items in the list are: Tikka Kharai Handi\n"
     ]
    }
   ],
   "source": [
    "foods = ['Tikka','Kharai','Handi','Kabab','MalaiBotti','katakaat','saji','NamkinBotti','Biryani']\n",
    "print(\"First three items in the list are:\",foods[0],foods[1],foods[2])\n",
    "\n",
    "\n"
   ]
  },
  {
   "cell_type": "code",
   "execution_count": 51,
   "metadata": {},
   "outputs": [
    {
     "name": "stdout",
     "output_type": "stream",
     "text": [
      "The first three items in the list are:.:['Tikka', 'Kharai', 'Handi']\n"
     ]
    }
   ],
   "source": [
    "print(f\"The first three items in the list are:.:{foods[0:3]}\")"
   ]
  },
  {
   "cell_type": "code",
   "execution_count": 52,
   "metadata": {},
   "outputs": [
    {
     "name": "stdout",
     "output_type": "stream",
     "text": [
      "Three items from the middle of the list are: Kabab MalaiBotti katakaat\n"
     ]
    }
   ],
   "source": [
    "print(\"Three items from the middle of the list are:\",foods[3],foods[4],foods[5])\n",
    "\n"
   ]
  },
  {
   "cell_type": "code",
   "execution_count": 53,
   "metadata": {},
   "outputs": [
    {
     "name": "stdout",
     "output_type": "stream",
     "text": [
      "Three items from the middle of the list are:['Kabab', 'MalaiBotti', 'katakaat']\n"
     ]
    }
   ],
   "source": [
    "print(f\"Three items from the middle of the list are:{foods[3:6]}\")"
   ]
  },
  {
   "cell_type": "code",
   "execution_count": 54,
   "metadata": {},
   "outputs": [
    {
     "name": "stdout",
     "output_type": "stream",
     "text": [
      "The last three items in list are: saji NamkinBotti Biryani\n"
     ]
    }
   ],
   "source": [
    "print(\"The last three items in list are:\",foods[6],foods[7],foods[8])\n",
    "\n"
   ]
  },
  {
   "cell_type": "code",
   "execution_count": 55,
   "metadata": {},
   "outputs": [
    {
     "name": "stdout",
     "output_type": "stream",
     "text": [
      "The last three items in list are: ['saji', 'NamkinBotti', 'Biryani']\n"
     ]
    }
   ],
   "source": [
    "print(\"The last three items in list are:\",foods[6:9])"
   ]
  },
  {
   "cell_type": "code",
   "execution_count": null,
   "metadata": {},
   "outputs": [],
   "source": []
  },
  {
   "cell_type": "markdown",
   "metadata": {},
   "source": [
    "# Q8:"
   ]
  },
  {
   "cell_type": "markdown",
   "metadata": {},
   "source": [
    "### Start with your program from your last Question8.\n",
    "###### Make a copy of the list of foods, and call it friend_foods.\n",
    "###### Then, do the following:\n",
    "######    Add a new dish to the original list.\n",
    "######    Add a different dish to the list friend_foodss.\n",
    "######    Prove that you have two separate lists. \n",
    "###### Print the message, My favorite pizzas are: and then use a for loop to print the first list. \n",
    "###### Print the message,\n",
    "###### My friend’s favorite foods are:, and then use a for loop to print the second list.\n",
    "    \n",
    "##### NOTE: Make sure each new dish is stored in the appropriate list."
   ]
  },
  {
   "cell_type": "code",
   "execution_count": null,
   "metadata": {},
   "outputs": [],
   "source": [
    "friend_foods=[]\n",
    "for i in food:\n",
    "    friend_foods.append(i)\n"
   ]
  },
  {
   "cell_type": "code",
   "execution_count": 58,
   "metadata": {},
   "outputs": [
    {
     "name": "stdout",
     "output_type": "stream",
     "text": [
      "['Tikka', 'Kharai', 'Handi', 'Kabab', 'MalaiBotti', 'katakaat', 'saji', 'NamkinBotti', 'Biryani']\n"
     ]
    }
   ],
   "source": [
    "print(friend_foods)"
   ]
  },
  {
   "cell_type": "code",
   "execution_count": 84,
   "metadata": {},
   "outputs": [
    {
     "name": "stdout",
     "output_type": "stream",
     "text": [
      "['Tikka', 'Kharai', 'Handi', 'Kabab', 'MalaiBotti', 'katakaat', 'saji', 'NamkinBotti', 'Biryani', 'Korma']\n",
      "['Tikka', 'Kharai', 'Handi', 'Kabab', 'MalaiBotti', 'katakaat', 'saji', 'NamkinBotti', 'Biryani', 'Pilaow']\n"
     ]
    }
   ],
   "source": [
    "foods.append('Korma')\n",
    "print(foods)\n",
    "friend_foods.append('Pilaow')\n",
    "print(friend_foods)"
   ]
  },
  {
   "cell_type": "code",
   "execution_count": 90,
   "metadata": {},
   "outputs": [
    {
     "name": "stdout",
     "output_type": "stream",
     "text": [
      " My favorite pizzas are:\n",
      "Tikka\n",
      "Kharai\n",
      "Handi\n",
      "Kabab\n",
      "MalaiBotti\n",
      "katakaat\n",
      "saji\n",
      "NamkinBotti\n",
      "Biryani\n",
      "Korma\n"
     ]
    }
   ],
   "source": [
    "print(\" My favorite pizzas are:\")\n",
    "for i in foods:\n",
    "    print(i)\n",
    "   "
   ]
  },
  {
   "cell_type": "code",
   "execution_count": 91,
   "metadata": {},
   "outputs": [
    {
     "name": "stdout",
     "output_type": "stream",
     "text": [
      "My friend’s favorite foods are:\n",
      "Tikka\n",
      "Kharai\n",
      "Handi\n",
      "Kabab\n",
      "MalaiBotti\n",
      "katakaat\n",
      "saji\n",
      "NamkinBotti\n",
      "Biryani\n",
      "Pilaow\n"
     ]
    }
   ],
   "source": [
    " print(\"My friend’s favorite foods are:\")\n",
    "for i in friend_foods:\n",
    "    print(i)"
   ]
  },
  {
   "cell_type": "code",
   "execution_count": null,
   "metadata": {},
   "outputs": [],
   "source": []
  },
  {
   "cell_type": "markdown",
   "metadata": {},
   "source": [
    "# Q9:"
   ]
  },
  {
   "cell_type": "markdown",
   "metadata": {},
   "source": [
    "Take a user input from console line.Store it in a variable called Alien_color.\n",
    "\n",
    "If the alien’s color is red, print a statement that the player just earned 5 points for shooting the alien.\n",
    "\n",
    "If the alien’s color isn’t green, print a statement that the player just earned 10 points.\n",
    "\n",
    "If the alien's color isn't red or green , print a statment :, Alien is no more....."
   ]
  },
  {
   "cell_type": "code",
   "execution_count": 102,
   "metadata": {},
   "outputs": [
    {
     "name": "stdout",
     "output_type": "stream",
     "text": [
      "Enter Color: red\n",
      "The player just earned 5 points for shooting the alien.\n"
     ]
    }
   ],
   "source": [
    "Alien_color=input(\"Enter Color: \")\n",
    "if Alien_color=='red':\n",
    "    print(\"The player just earned 5 points for shooting the alien.\")\n",
    "elif Alien_color == 'green':\n",
    "    print(\" the player just earned 10 points.\")\n",
    "else:\n",
    "    print(\"Alien is no more.....\")"
   ]
  },
  {
   "cell_type": "code",
   "execution_count": 95,
   "metadata": {},
   "outputs": [
    {
     "name": "stdout",
     "output_type": "stream",
     "text": [
      "Enter Color: green\n",
      " the player just earned 10 points.\n"
     ]
    }
   ],
   "source": [
    "Alien_color=input(\"Enter Color: \")\n",
    "if Alien_color=='red':\n",
    "    print(\"The player just earned 5 points for shooting the alien.\")\n",
    "elif Alien_color == 'green':\n",
    "    print(\" the player just earned 10 points.\")\n",
    "else:\n",
    "    print(\"Alien is no more.....\")"
   ]
  },
  {
   "cell_type": "code",
   "execution_count": 101,
   "metadata": {},
   "outputs": [
    {
     "name": "stdout",
     "output_type": "stream",
     "text": [
      "Enter Color: blue\n",
      "Alien is no more.....\n"
     ]
    }
   ],
   "source": [
    "Alien_color=input(\"Enter Color: \")\n",
    "if Alien_color=='red':\n",
    "    print(\"The player just earned 5 points for shooting the alien.\")\n",
    "elif Alien_color=='green':\n",
    "    print(\" the player just earned 10 points.\")\n",
    "else:\n",
    "    print(\"Alien is no more.....\")"
   ]
  },
  {
   "cell_type": "code",
   "execution_count": null,
   "metadata": {},
   "outputs": [],
   "source": []
  },
  {
   "cell_type": "markdown",
   "metadata": {},
   "source": [
    "# Q10:"
   ]
  },
  {
   "cell_type": "markdown",
   "metadata": {},
   "source": [
    "Write an if-elif-else chain that determines a person’s\n",
    "stage of life. Set a value for the variable age, and then:\n",
    "    \n",
    "•\t If the person is less than 2 years old, print a message that the person is a baby.\n",
    "\n",
    "•\t If the person is at least 2 years old but less than 4, print a message that the person is a toddler.\n",
    "\n",
    "•\t If the person is at least 4 years old but less than 13, print a message that the person is a kid.\n",
    "\n",
    "•\t If the person is at least 13 years old but less than 20, print a message that the person is a teenager.\n",
    "\n",
    "•\t If the person is at least 20 years old but less than 65, print a message that the person is an adult.\n",
    "\n",
    "•\t If the person is age 65 or older, print a message that the person is an elder."
   ]
  },
  {
   "cell_type": "code",
   "execution_count": 107,
   "metadata": {},
   "outputs": [
    {
     "name": "stdout",
     "output_type": "stream",
     "text": [
      "Person stage of life Please Enter Age:\n",
      "Enter Age: 1\n",
      "the person is a baby.\n"
     ]
    }
   ],
   "source": [
    "print(\"Person stage of life Please Enter Age:\")\n",
    "person = int(input(\"Enter Age: \"))\n",
    "if person <2:\n",
    "    print(\"the person is a baby.\")\n",
    "elif person>=2 and person<4:\n",
    "    print(\"the person is a toddler.\")\n",
    "elif person>=4 and person<13:\n",
    "    print(\"the person is a kid.\")\n",
    "elif person>=13 and person<20:\n",
    "    print(\"the person is a teenager.\")\n",
    "elif person>=20 and person<65:\n",
    "    print(\"the person is an adult.\")\n",
    "else:\n",
    "    print(\"the person is an elder.\")\n",
    "\n",
    "\n"
   ]
  },
  {
   "cell_type": "code",
   "execution_count": 108,
   "metadata": {},
   "outputs": [
    {
     "name": "stdout",
     "output_type": "stream",
     "text": [
      "Person stage of life Please Enter Age:\n",
      "Enter Age: 2\n",
      "the person is a toddler.\n"
     ]
    }
   ],
   "source": [
    "print(\"Person stage of life Please Enter Age:\")\n",
    "person = int(input(\"Enter Age: \"))\n",
    "if person <2:\n",
    "    print(\"the person is a baby.\")\n",
    "elif person>=2 and person<4:\n",
    "    print(\"the person is a toddler.\")\n",
    "elif person>=4 and person<13:\n",
    "    print(\"the person is a kid.\")\n",
    "elif person>=13 and person<20:\n",
    "    print(\"the person is a teenager.\")\n",
    "elif person>=20 and person<65:\n",
    "    print(\"the person is an adult.\")\n",
    "else:\n",
    "    print(\"the person is an elder.\")"
   ]
  },
  {
   "cell_type": "code",
   "execution_count": 109,
   "metadata": {},
   "outputs": [
    {
     "name": "stdout",
     "output_type": "stream",
     "text": [
      "Person stage of life Please Enter Age:\n",
      "Enter Age: 12\n",
      "the person is a kid.\n"
     ]
    }
   ],
   "source": [
    "print(\"Person stage of life Please Enter Age:\")\n",
    "person = int(input(\"Enter Age: \"))\n",
    "if person <2:\n",
    "    print(\"the person is a baby.\")\n",
    "elif person>=2 and person<4:\n",
    "    print(\"the person is a toddler.\")\n",
    "elif person>=4 and person<13:\n",
    "    print(\"the person is a kid.\")\n",
    "elif person>=13 and person<20:\n",
    "    print(\"the person is a teenager.\")\n",
    "elif person>=20 and person<65:\n",
    "    print(\"the person is an adult.\")\n",
    "else:\n",
    "    print(\"the person is an elder.\")"
   ]
  },
  {
   "cell_type": "code",
   "execution_count": 110,
   "metadata": {},
   "outputs": [
    {
     "name": "stdout",
     "output_type": "stream",
     "text": [
      "Person stage of life Please Enter Age:\n",
      "Enter Age: 18\n",
      "the person is a teenager.\n"
     ]
    }
   ],
   "source": [
    "print(\"Person stage of life Please Enter Age:\")\n",
    "person = int(input(\"Enter Age: \"))\n",
    "if person <2:\n",
    "    print(\"the person is a baby.\")\n",
    "elif person>=2 and person<4:\n",
    "    print(\"the person is a toddler.\")\n",
    "elif person>=4 and person<13:\n",
    "    print(\"the person is a kid.\")\n",
    "elif person>=13 and person<20:\n",
    "    print(\"the person is a teenager.\")\n",
    "elif person>=20 and person<65:\n",
    "    print(\"the person is an adult.\")\n",
    "else:\n",
    "    print(\"the person is an elder.\")"
   ]
  },
  {
   "cell_type": "code",
   "execution_count": 111,
   "metadata": {},
   "outputs": [
    {
     "name": "stdout",
     "output_type": "stream",
     "text": [
      "Person stage of life Please Enter Age:\n",
      "Enter Age: 50\n",
      "the person is an adult.\n"
     ]
    }
   ],
   "source": [
    "print(\"Person stage of life Please Enter Age:\")\n",
    "person = int(input(\"Enter Age: \"))\n",
    "if person <2:\n",
    "    print(\"the person is a baby.\")\n",
    "elif person>=2 and person<4:\n",
    "    print(\"the person is a toddler.\")\n",
    "elif person>=4 and person<13:\n",
    "    print(\"the person is a kid.\")\n",
    "elif person>=13 and person<20:\n",
    "    print(\"the person is a teenager.\")\n",
    "elif person>=20 and person<65:\n",
    "    print(\"the person is an adult.\")\n",
    "else:\n",
    "    print(\"the person is an elder.\")"
   ]
  },
  {
   "cell_type": "code",
   "execution_count": 112,
   "metadata": {},
   "outputs": [
    {
     "name": "stdout",
     "output_type": "stream",
     "text": [
      "Person stage of life Please Enter Age:\n",
      "Enter Age: 80\n",
      "the person is an elder.\n"
     ]
    }
   ],
   "source": [
    "print(\"Person stage of life Please Enter Age:\")\n",
    "person = int(input(\"Enter Age: \"))\n",
    "if person <2:\n",
    "    print(\"the person is a baby.\")\n",
    "elif person>=2 and person<4:\n",
    "    print(\"the person is a toddler.\")\n",
    "elif person>=4 and person<13:\n",
    "    print(\"the person is a kid.\")\n",
    "elif person>=13 and person<20:\n",
    "    print(\"the person is a teenager.\")\n",
    "elif person>=20 and person<65:\n",
    "    print(\"the person is an adult.\")\n",
    "else:\n",
    "    print(\"the person is an elder.\")"
   ]
  },
  {
   "cell_type": "code",
   "execution_count": null,
   "metadata": {},
   "outputs": [],
   "source": []
  },
  {
   "cell_type": "code",
   "execution_count": null,
   "metadata": {},
   "outputs": [],
   "source": []
  },
  {
   "cell_type": "markdown",
   "metadata": {},
   "source": [
    "# Q11:"
   ]
  },
  {
   "cell_type": "markdown",
   "metadata": {},
   "source": [
    "Do the following to create a program that simulates how websites ensure that everyone has a unique username.\n",
    "\n",
    "•\t Make a list of five or more usernames called current_users.\n",
    "\n",
    "•\t Make another list of five usernames called new_users. \n",
    "Make sure one or two of the new usernames are also in the current_users list.\n",
    "\n",
    "•\t Loop through the new_users list to see if each new username has already been used. \n",
    "If it has, print a message that the person will need to enter a new username. \n",
    "If a username has not been used, print a message saying that the username is available.\n",
    "\n",
    "•\t Make sure your comparison is case insensitive. If 'John' has been used, 'JOHN' should not be accepted."
   ]
  },
  {
   "cell_type": "code",
   "execution_count": 1,
   "metadata": {},
   "outputs": [],
   "source": [
    "current_users = ['shayan','shahzar','abdullah','azlan','arsal']\n",
    "new_users = ['shayan','azlan','faizan','furqan','naeem']\n"
   ]
  },
  {
   "cell_type": "code",
   "execution_count": 4,
   "metadata": {},
   "outputs": [
    {
     "name": "stdout",
     "output_type": "stream",
     "text": [
      "shayan the person will need to enter a new username.\n",
      "azlan the person will need to enter a new username.\n",
      "faizan the username is available.\n",
      "furqan the username is available.\n",
      "naeem the username is available.\n"
     ]
    }
   ],
   "source": [
    "for i in new_users:\n",
    "    if i in current_users:\n",
    "        print(f\"{i} the person will need to enter a new username.\")\n",
    "    else:\n",
    "        print(f\"{i} the username is available.\")"
   ]
  },
  {
   "cell_type": "code",
   "execution_count": null,
   "metadata": {},
   "outputs": [],
   "source": []
  },
  {
   "cell_type": "code",
   "execution_count": null,
   "metadata": {},
   "outputs": [],
   "source": []
  },
  {
   "cell_type": "markdown",
   "metadata": {},
   "source": [
    "# Q12:"
   ]
  },
  {
   "cell_type": "markdown",
   "metadata": {},
   "source": [
    "Use a dictionary to store information about a person you know.\n",
    "Store their first name, last name, age, and the city in which they live. \n",
    "You should have keys such as first_name, last_name, age, and city. \n",
    "Print each piece of information stored in your dictionary"
   ]
  },
  {
   "cell_type": "code",
   "execution_count": 2,
   "metadata": {},
   "outputs": [],
   "source": [
    "info={'first_name':'Shayan','last_name':'Khan','Age':'20','city':'Karachi'}"
   ]
  },
  {
   "cell_type": "code",
   "execution_count": 4,
   "metadata": {},
   "outputs": [
    {
     "name": "stdout",
     "output_type": "stream",
     "text": [
      "Shayan\n",
      "Khan\n",
      "20\n",
      "Karachi\n"
     ]
    }
   ],
   "source": [
    "print(info['first_name'])\n",
    "print(info['last_name'])\n",
    "print(info['Age'])\n",
    "print(info['city'])"
   ]
  },
  {
   "cell_type": "code",
   "execution_count": null,
   "metadata": {},
   "outputs": [],
   "source": []
  },
  {
   "cell_type": "code",
   "execution_count": null,
   "metadata": {},
   "outputs": [],
   "source": []
  },
  {
   "cell_type": "markdown",
   "metadata": {},
   "source": [
    "# Q13:"
   ]
  },
  {
   "cell_type": "markdown",
   "metadata": {},
   "source": [
    "Starts with your last question 12 , loop through the dictionary’s keys and values.\n",
    "When you’re sure that your loop works, add five more Python terms to your\n",
    "dictionary . When you run your program again, these new words and meanings\n",
    "should automatically be included in the output."
   ]
  },
  {
   "cell_type": "code",
   "execution_count": 6,
   "metadata": {},
   "outputs": [
    {
     "name": "stdout",
     "output_type": "stream",
     "text": [
      "first_name:Shayan\n",
      "last_name:Khan\n",
      "Age:20\n",
      "city:Karachi\n"
     ]
    }
   ],
   "source": [
    "for key , value in info.items():\n",
    "    print(f\"{key}:{value}\")"
   ]
  },
  {
   "cell_type": "code",
   "execution_count": 7,
   "metadata": {},
   "outputs": [],
   "source": [
    "info['print']=['print the statement']\n",
    "info['if']=['condition']\n",
    "info['loops']=['use for continous running the program ']\n",
    "info['break']=['for stop the condition of loop']\n",
    "info['continous']=['for continue the condition in loop']\n"
   ]
  },
  {
   "cell_type": "code",
   "execution_count": 8,
   "metadata": {},
   "outputs": [
    {
     "name": "stdout",
     "output_type": "stream",
     "text": [
      "first_name:Shayan\n",
      "last_name:Khan\n",
      "Age:20\n",
      "city:Karachi\n",
      "print:['print the statement']\n",
      "if:['condition']\n",
      "loops:['use for continous running the program ']\n",
      "break:['for stop the condition of loop']\n",
      "continous:['for continue the condition in loop']\n"
     ]
    }
   ],
   "source": [
    "for key , value in info.items():\n",
    "    print(f\"{key}:{value}\")"
   ]
  },
  {
   "cell_type": "code",
   "execution_count": null,
   "metadata": {},
   "outputs": [],
   "source": []
  },
  {
   "cell_type": "code",
   "execution_count": null,
   "metadata": {},
   "outputs": [],
   "source": []
  },
  {
   "cell_type": "markdown",
   "metadata": {},
   "source": [
    "# Q14:"
   ]
  },
  {
   "cell_type": "markdown",
   "metadata": {},
   "source": [
    "Make a dictionary containing three major rivers and the country\n",
    "each river runs through. One key-value pair might be 'nile': 'egypt'.\n",
    "    \n",
    "    \n",
    "•\t Use a loop to print a sentence about each river, such as The Nile runs\n",
    "through Egypt.\n",
    "\n",
    "NOTE: use upper case through keys and values."
   ]
  },
  {
   "cell_type": "code",
   "execution_count": 6,
   "metadata": {},
   "outputs": [
    {
     "name": "stdout",
     "output_type": "stream",
     "text": [
      "The RHONE runs through FRANCE\n",
      "The JHELUM runs through PAKISTAN\n",
      "The NILE runs through EGYPT\n"
     ]
    }
   ],
   "source": [
    "river={'rhone':'france','jhelum':'pakistan','nile':'egypt'}\n",
    "for key,value in river.items():\n",
    "    print(f\"The {key.upper()} runs through {value.upper()}\")"
   ]
  },
  {
   "cell_type": "code",
   "execution_count": null,
   "metadata": {},
   "outputs": [],
   "source": []
  },
  {
   "cell_type": "code",
   "execution_count": null,
   "metadata": {},
   "outputs": [],
   "source": []
  },
  {
   "cell_type": "markdown",
   "metadata": {},
   "source": [
    "# Q15:"
   ]
  },
  {
   "cell_type": "markdown",
   "metadata": {},
   "source": [
    "Make several dictionaries, where the name of each dictionary is the\n",
    "name of a pet. In each dictionary, include the kind of animal and the owner’s\n",
    "name. Store these dictionaries in a list called pets. Next, loop through your list\n",
    "and as you do print everything you know about each pet."
   ]
  },
  {
   "cell_type": "code",
   "execution_count": 10,
   "metadata": {},
   "outputs": [
    {
     "name": "stdout",
     "output_type": "stream",
     "text": [
      "kind of animal=puppy\n",
      "owner's name=Shayan\n",
      "\n",
      "\n",
      "kind of animal=kitten\n",
      "owner's name=Azlan\n",
      "\n",
      "\n",
      "kind of animal=parrot\n",
      "owner's name=John\n",
      "\n",
      "\n"
     ]
    }
   ],
   "source": [
    "pets=[]\n",
    "pet={\"kind of animal\":\"puppy\",\"owner's name\":\"Shayan\"}\n",
    "pets.append(pet)\n",
    "pet={\"kind of animal\":\"kitten\",\"owner's name\":\"Azlan\"}\n",
    "pets.append(pet)\n",
    "pet={\"kind of animal\":\"parrot\",\"owner's name\":\"John\"}\n",
    "pets.append(pet)\n",
    "for i in pets:\n",
    "    for key , values in i.items():\n",
    "        print(f\"{key}={values}\")\n",
    "    print(\"\\n\")"
   ]
  },
  {
   "cell_type": "code",
   "execution_count": null,
   "metadata": {},
   "outputs": [],
   "source": []
  }
 ],
 "metadata": {
  "kernelspec": {
   "display_name": "Python 3",
   "language": "python",
   "name": "python3"
  },
  "language_info": {
   "codemirror_mode": {
    "name": "ipython",
    "version": 3
   },
   "file_extension": ".py",
   "mimetype": "text/x-python",
   "name": "python",
   "nbconvert_exporter": "python",
   "pygments_lexer": "ipython3",
   "version": "3.7.3"
  }
 },
 "nbformat": 4,
 "nbformat_minor": 2
}
